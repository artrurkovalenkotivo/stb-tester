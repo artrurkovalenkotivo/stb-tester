{
 "cells": [
  {
   "cell_type": "code",
   "execution_count": 0,
   "metadata": {
    "scrolled": false
   },
   "outputs": [],
   "source": [
    "import stbt_core as stbt\n",
    "from _stbt.logging import imshow\n",
    "f = stbt.load_image(\"images/regression/xfinity-frame.png\")\n",
    "imshow(f)"
   ]
  },
  {
   "cell_type": "code",
   "execution_count": 0,
   "metadata": {
    "scrolled": false
   },
   "outputs": [],
   "source": [
    "stbt.is_screen_black(f, mask=stbt.Region(x=0, y=100, right=640, bottom=400))\n",
    "stbt.is_screen_black(f, mask=~stbt.Region(x=0, y=100, right=640, bottom=400))\n",
    "stbt.is_screen_black(f, mask=stbt.Region(x=0, y=600, right=1280, bottom=720))\n",
    "stbt.is_screen_black(f, mask=stbt.Region(x=0, y=600, right=100, bottom=720) + stbt.Region(x=1100, y=600, right=1200, bottom=720))"
   ]
  },
  {
   "cell_type": "code",
   "execution_count": 0,
   "metadata": {
    "scrolled": false
   },
   "outputs": [],
   "source": [
    "f1 = stbt.Frame(stbt.load_image(\"videotestsrc-redblue.png\"), time=1)\n",
    "f2 = stbt.Frame(stbt.load_image(\"videotestsrc-redblue-with-dots.png\"), time=2)\n",
    "def frames():\n",
    "    yield f1\n",
    "    yield f2\n",
    "stbt.detect_motion.differ = stbt.GrayscaleDiff\n",
    "next(stbt.detect_motion(frames=frames()))\n",
    "next(stbt.detect_motion(mask=stbt.Region(x=10, y=60, right=85, bottom=85), frames=frames()))\n",
    "next(stbt.detect_motion(mask=stbt.Region(10, 10, right=80, bottom=150) - stbt.Region(x=10, y=60, right=85, bottom=85), frames=frames()))"
   ]
  },
  {
   "cell_type": "code",
   "execution_count": 0,
   "metadata": {},
   "outputs": [],
   "source": [
    "stbt.detect_motion.differ = stbt.BGRDiff\n",
    "next(stbt.detect_motion(frames=frames(), noise_threshold=40))\n",
    "next(stbt.detect_motion(mask=stbt.Region(x=10, y=60, right=85, bottom=85), frames=frames(), noise_threshold=40))\n",
    "next(stbt.detect_motion(mask=stbt.Region(10, 10, right=80, bottom=150) - stbt.Region(x=10, y=60, right=85, bottom=85), frames=frames(), noise_threshold=40))"
   ]
  }
 ],
 "metadata": {
  "kernelspec": {
   "display_name": "Python 3",
   "language": "python",
   "name": "python3"
  },
  "language_info": {
   "codemirror_mode": {
    "name": "ipython",
    "version": 3
   },
   "file_extension": ".py",
   "mimetype": "text/x-python",
   "name": "python",
   "nbconvert_exporter": "python",
   "pygments_lexer": "ipython3",
   "version": "3.8.10"
  }
 },
 "nbformat": 4,
 "nbformat_minor": 4
}